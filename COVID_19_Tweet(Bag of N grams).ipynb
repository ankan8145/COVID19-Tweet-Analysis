{
 "cells": [
  {
   "cell_type": "code",
   "execution_count": 2,
   "id": "067b01c3",
   "metadata": {},
   "outputs": [],
   "source": [
    "from sklearn.feature_extraction.text import CountVectorizer\n"
   ]
  },
  {
   "cell_type": "code",
   "execution_count": 3,
   "id": "d72f0285",
   "metadata": {},
   "outputs": [
    {
     "data": {
      "text/plain": [
       "{'oneday': 4,\n",
       " 'debayan': 0,\n",
       " 'sir': 7,\n",
       " 'will': 11,\n",
       " 'give': 2,\n",
       " 'us': 9,\n",
       " 'party': 6,\n",
       " 'oneday debayan': 5,\n",
       " 'debayan sir': 1,\n",
       " 'sir will': 8,\n",
       " 'will give': 12,\n",
       " 'give us': 3,\n",
       " 'us party': 10}"
      ]
     },
     "execution_count": 3,
     "metadata": {},
     "output_type": "execute_result"
    }
   ],
   "source": [
    "v = CountVectorizer(ngram_range=(1,2))\n",
    "v.fit([\"Oneday Debayan sir will give us a party\"])\n",
    "v.vocabulary_"
   ]
  },
  {
   "cell_type": "code",
   "execution_count": 4,
   "id": "2dae7ae1",
   "metadata": {},
   "outputs": [
    {
     "data": {
      "text/plain": [
       "{'oneday': 6,\n",
       " 'debayan': 0,\n",
       " 'sir': 10,\n",
       " 'will': 15,\n",
       " 'give': 3,\n",
       " 'us': 13,\n",
       " 'party': 9,\n",
       " 'oneday debayan': 7,\n",
       " 'debayan sir': 1,\n",
       " 'sir will': 11,\n",
       " 'will give': 16,\n",
       " 'give us': 4,\n",
       " 'us party': 14,\n",
       " 'oneday debayan sir': 8,\n",
       " 'debayan sir will': 2,\n",
       " 'sir will give': 12,\n",
       " 'will give us': 17,\n",
       " 'give us party': 5}"
      ]
     },
     "execution_count": 4,
     "metadata": {},
     "output_type": "execute_result"
    }
   ],
   "source": [
    "v = CountVectorizer(ngram_range=(1,3))\n",
    "v.fit([\"Oneday Debayan sir will give us a party\"])\n",
    "v.vocabulary_"
   ]
  },
  {
   "cell_type": "code",
   "execution_count": null,
   "id": "2745fa33",
   "metadata": {},
   "outputs": [],
   "source": []
  },
  {
   "cell_type": "code",
   "execution_count": 5,
   "id": "00451f2e",
   "metadata": {},
   "outputs": [],
   "source": [
    "# !python -m spacy download en"
   ]
  },
  {
   "cell_type": "code",
   "execution_count": 6,
   "id": "7ae54f31",
   "metadata": {},
   "outputs": [],
   "source": [
    "import spacy\n",
    "# import neattext.functions as nfx\n",
    "import neattext as nt\n",
    "\n",
    "# load english language model and create nlp object from it\n",
    "nlp = spacy.load(\"en_core_web_sm\") \n",
    "\n",
    "def preprocess(text): \n",
    "    docx = nt.TextFrame(text)\n",
    "    text = docx.remove_hashtags()\n",
    "    text = docx.remove_stopwords(lang='en')\n",
    "    text = docx.remove_userhandles()\n",
    "    text = docx.remove_urls()\n",
    "    text = docx.remove_emojis()\n",
    "    text = docx.remove_html_tags()\n",
    "    text = docx.remove_puncts()\n",
    "    text = docx.remove_multiple_spaces()\n",
    "    text = str(text)\n",
    "    return text"
   ]
  },
  {
   "cell_type": "code",
   "execution_count": 7,
   "id": "55c1b544",
   "metadata": {},
   "outputs": [
    {
     "name": "stdout",
     "output_type": "stream",
     "text": [
      " mail our \n"
     ]
    }
   ],
   "source": [
    "print(preprocess(\"@xyz This is the mail      ,our #WEBSITE is https://example.com 😊.\"))"
   ]
  },
  {
   "cell_type": "code",
   "execution_count": null,
   "id": "4cd29dca",
   "metadata": {},
   "outputs": [],
   "source": []
  },
  {
   "cell_type": "code",
   "execution_count": null,
   "id": "73be813b",
   "metadata": {},
   "outputs": [],
   "source": []
  },
  {
   "cell_type": "code",
   "execution_count": null,
   "id": "b8105ee7",
   "metadata": {},
   "outputs": [],
   "source": []
  },
  {
   "cell_type": "code",
   "execution_count": 8,
   "id": "de842520",
   "metadata": {},
   "outputs": [],
   "source": [
    "import pandas as pd\n",
    "\n",
    "df_train = pd.read_csv( 'Corona_NLP_train.csv' , encoding='ISO-8859-1', index_col= False )\n",
    "df_test = pd.read_csv('Corona_NLP_test.csv', encoding='ISO-8859-1', index_col= False )"
   ]
  },
  {
   "cell_type": "code",
   "execution_count": 9,
   "id": "fb4c6f69",
   "metadata": {},
   "outputs": [
    {
     "data": {
      "text/plain": [
       "((41157, 6), (3798, 6))"
      ]
     },
     "execution_count": 9,
     "metadata": {},
     "output_type": "execute_result"
    }
   ],
   "source": [
    "df_train.shape, df_test.shape"
   ]
  },
  {
   "cell_type": "code",
   "execution_count": 10,
   "id": "181df8e6",
   "metadata": {},
   "outputs": [
    {
     "data": {
      "text/html": [
       "<div>\n",
       "<style scoped>\n",
       "    .dataframe tbody tr th:only-of-type {\n",
       "        vertical-align: middle;\n",
       "    }\n",
       "\n",
       "    .dataframe tbody tr th {\n",
       "        vertical-align: top;\n",
       "    }\n",
       "\n",
       "    .dataframe thead th {\n",
       "        text-align: right;\n",
       "    }\n",
       "</style>\n",
       "<table border=\"1\" class=\"dataframe\">\n",
       "  <thead>\n",
       "    <tr style=\"text-align: right;\">\n",
       "      <th></th>\n",
       "      <th>UserName</th>\n",
       "      <th>ScreenName</th>\n",
       "      <th>Location</th>\n",
       "      <th>TweetAt</th>\n",
       "      <th>OriginalTweet</th>\n",
       "      <th>Sentiment</th>\n",
       "    </tr>\n",
       "  </thead>\n",
       "  <tbody>\n",
       "    <tr>\n",
       "      <th>0</th>\n",
       "      <td>3799</td>\n",
       "      <td>48751</td>\n",
       "      <td>London</td>\n",
       "      <td>16-03-2020</td>\n",
       "      <td>@MeNyrbie @Phil_Gahan @Chrisitv https://t.co/i...</td>\n",
       "      <td>Neutral</td>\n",
       "    </tr>\n",
       "    <tr>\n",
       "      <th>1</th>\n",
       "      <td>3800</td>\n",
       "      <td>48752</td>\n",
       "      <td>UK</td>\n",
       "      <td>16-03-2020</td>\n",
       "      <td>advice Talk to your neighbours family to excha...</td>\n",
       "      <td>Positive</td>\n",
       "    </tr>\n",
       "    <tr>\n",
       "      <th>2</th>\n",
       "      <td>3801</td>\n",
       "      <td>48753</td>\n",
       "      <td>Vagabonds</td>\n",
       "      <td>16-03-2020</td>\n",
       "      <td>Coronavirus Australia: Woolworths to give elde...</td>\n",
       "      <td>Positive</td>\n",
       "    </tr>\n",
       "    <tr>\n",
       "      <th>3</th>\n",
       "      <td>3802</td>\n",
       "      <td>48754</td>\n",
       "      <td>NaN</td>\n",
       "      <td>16-03-2020</td>\n",
       "      <td>My food stock is not the only one which is emp...</td>\n",
       "      <td>Positive</td>\n",
       "    </tr>\n",
       "    <tr>\n",
       "      <th>4</th>\n",
       "      <td>3803</td>\n",
       "      <td>48755</td>\n",
       "      <td>NaN</td>\n",
       "      <td>16-03-2020</td>\n",
       "      <td>Me, ready to go at supermarket during the #COV...</td>\n",
       "      <td>Extremely Negative</td>\n",
       "    </tr>\n",
       "  </tbody>\n",
       "</table>\n",
       "</div>"
      ],
      "text/plain": [
       "   UserName  ScreenName   Location     TweetAt  \\\n",
       "0      3799       48751     London  16-03-2020   \n",
       "1      3800       48752         UK  16-03-2020   \n",
       "2      3801       48753  Vagabonds  16-03-2020   \n",
       "3      3802       48754        NaN  16-03-2020   \n",
       "4      3803       48755        NaN  16-03-2020   \n",
       "\n",
       "                                       OriginalTweet           Sentiment  \n",
       "0  @MeNyrbie @Phil_Gahan @Chrisitv https://t.co/i...             Neutral  \n",
       "1  advice Talk to your neighbours family to excha...            Positive  \n",
       "2  Coronavirus Australia: Woolworths to give elde...            Positive  \n",
       "3  My food stock is not the only one which is emp...            Positive  \n",
       "4  Me, ready to go at supermarket during the #COV...  Extremely Negative  "
      ]
     },
     "execution_count": 10,
     "metadata": {},
     "output_type": "execute_result"
    }
   ],
   "source": [
    "df_train.head()"
   ]
  },
  {
   "cell_type": "code",
   "execution_count": 11,
   "id": "f20769cd",
   "metadata": {},
   "outputs": [
    {
     "data": {
      "text/plain": [
       "Positive              11422\n",
       "Negative               9917\n",
       "Neutral                7713\n",
       "Extremely Positive     6624\n",
       "Extremely Negative     5481\n",
       "Name: Sentiment, dtype: int64"
      ]
     },
     "execution_count": 11,
     "metadata": {},
     "output_type": "execute_result"
    }
   ],
   "source": [
    "df_train.Sentiment.value_counts()"
   ]
  },
  {
   "cell_type": "code",
   "execution_count": 12,
   "id": "d5d7dc78",
   "metadata": {},
   "outputs": [
    {
     "data": {
      "text/plain": [
       "Negative              1041\n",
       "Positive               947\n",
       "Neutral                619\n",
       "Extremely Positive     599\n",
       "Extremely Negative     592\n",
       "Name: Sentiment, dtype: int64"
      ]
     },
     "execution_count": 12,
     "metadata": {},
     "output_type": "execute_result"
    }
   ],
   "source": [
    "df_test.Sentiment.value_counts()"
   ]
  },
  {
   "cell_type": "code",
   "execution_count": 13,
   "id": "843f997a",
   "metadata": {},
   "outputs": [],
   "source": [
    "min_samples = 5481 # we have these many SCIENCE articles and SCIENCE is our minority class\n",
    "\n",
    "df_Positive = df_train[df_train.Sentiment==\"Positive\"].sample(min_samples, random_state=28)\n",
    "df_negetive = df_train[df_train.Sentiment==\"Negative\"].sample(min_samples, random_state=28)\n",
    "df_neutral = df_train[df_train.Sentiment==\"Neutral\"].sample(min_samples, random_state=28)\n",
    "df_ex_positive = df_train[df_train.Sentiment==\"Extremely Positive\"].sample(min_samples, random_state=28)\n",
    "df_ex_negetive = df_train[df_train.Sentiment==\"Extremely Negative\"].sample(min_samples, random_state=28)"
   ]
  },
  {
   "cell_type": "code",
   "execution_count": 14,
   "id": "96548634",
   "metadata": {},
   "outputs": [
    {
     "data": {
      "text/plain": [
       "Positive              5481\n",
       "Negative              5481\n",
       "Neutral               5481\n",
       "Extremely Positive    5481\n",
       "Extremely Negative    5481\n",
       "Name: Sentiment, dtype: int64"
      ]
     },
     "execution_count": 14,
     "metadata": {},
     "output_type": "execute_result"
    }
   ],
   "source": [
    "df_balanced = pd.concat([df_Positive,df_negetive,df_neutral,df_ex_positive,df_ex_negetive],axis=0)\n",
    "df_balanced.Sentiment.value_counts()"
   ]
  },
  {
   "cell_type": "code",
   "execution_count": 15,
   "id": "b847bc95",
   "metadata": {},
   "outputs": [],
   "source": [
    "target = {'Extremely Positive': 0, 'Positive': 1, 'Neutral': 2, 'Negative': 3, 'Extremely Negative': 4 }\n",
    "# target = {'Extremely Positive': 0, 'Positive': 0, 'Neutral': 1, 'Negative': 2, 'Extremely Negative': 2 }\n",
    "\n",
    "df_balanced['sentiment_num'] = df_balanced['Sentiment'].map(target)\n",
    "df_test['sentiment_num'] = df_test['Sentiment'].map(target)"
   ]
  },
  {
   "cell_type": "code",
   "execution_count": 16,
   "id": "8c0a2a0c",
   "metadata": {},
   "outputs": [
    {
     "data": {
      "text/html": [
       "<div>\n",
       "<style scoped>\n",
       "    .dataframe tbody tr th:only-of-type {\n",
       "        vertical-align: middle;\n",
       "    }\n",
       "\n",
       "    .dataframe tbody tr th {\n",
       "        vertical-align: top;\n",
       "    }\n",
       "\n",
       "    .dataframe thead th {\n",
       "        text-align: right;\n",
       "    }\n",
       "</style>\n",
       "<table border=\"1\" class=\"dataframe\">\n",
       "  <thead>\n",
       "    <tr style=\"text-align: right;\">\n",
       "      <th></th>\n",
       "      <th>UserName</th>\n",
       "      <th>ScreenName</th>\n",
       "      <th>Location</th>\n",
       "      <th>TweetAt</th>\n",
       "      <th>OriginalTweet</th>\n",
       "      <th>Sentiment</th>\n",
       "      <th>sentiment_num</th>\n",
       "    </tr>\n",
       "  </thead>\n",
       "  <tbody>\n",
       "    <tr>\n",
       "      <th>31552</th>\n",
       "      <td>35351</td>\n",
       "      <td>80303</td>\n",
       "      <td>NaN</td>\n",
       "      <td>07-04-2020</td>\n",
       "      <td>People please don t forget the food banks Our ...</td>\n",
       "      <td>Positive</td>\n",
       "      <td>1</td>\n",
       "    </tr>\n",
       "    <tr>\n",
       "      <th>7389</th>\n",
       "      <td>11188</td>\n",
       "      <td>56140</td>\n",
       "      <td>Comber, Northern Ireland</td>\n",
       "      <td>19-03-2020</td>\n",
       "      <td>We can't feed the nation without you! \\r\\r\\n\\r...</td>\n",
       "      <td>Positive</td>\n",
       "      <td>1</td>\n",
       "    </tr>\n",
       "    <tr>\n",
       "      <th>3367</th>\n",
       "      <td>7166</td>\n",
       "      <td>52118</td>\n",
       "      <td>Benicia, California, USA</td>\n",
       "      <td>18-03-2020</td>\n",
       "      <td>@drdrew Dr. Drew, do you think the United Stat...</td>\n",
       "      <td>Positive</td>\n",
       "      <td>1</td>\n",
       "    </tr>\n",
       "    <tr>\n",
       "      <th>9537</th>\n",
       "      <td>13336</td>\n",
       "      <td>58288</td>\n",
       "      <td>Philadelphia</td>\n",
       "      <td>20-03-2020</td>\n",
       "      <td>The Commissary (grocery store) on base (my fat...</td>\n",
       "      <td>Positive</td>\n",
       "      <td>1</td>\n",
       "    </tr>\n",
       "    <tr>\n",
       "      <th>3979</th>\n",
       "      <td>7778</td>\n",
       "      <td>52730</td>\n",
       "      <td>Vermilion, OH</td>\n",
       "      <td>18-03-2020</td>\n",
       "      <td>At the grocery store, the only orange juice ha...</td>\n",
       "      <td>Positive</td>\n",
       "      <td>1</td>\n",
       "    </tr>\n",
       "  </tbody>\n",
       "</table>\n",
       "</div>"
      ],
      "text/plain": [
       "       UserName  ScreenName                  Location     TweetAt  \\\n",
       "31552     35351       80303                       NaN  07-04-2020   \n",
       "7389      11188       56140  Comber, Northern Ireland  19-03-2020   \n",
       "3367       7166       52118  Benicia, California, USA  18-03-2020   \n",
       "9537      13336       58288              Philadelphia  20-03-2020   \n",
       "3979       7778       52730             Vermilion, OH  18-03-2020   \n",
       "\n",
       "                                           OriginalTweet Sentiment  \\\n",
       "31552  People please don t forget the food banks Our ...  Positive   \n",
       "7389   We can't feed the nation without you! \\r\\r\\n\\r...  Positive   \n",
       "3367   @drdrew Dr. Drew, do you think the United Stat...  Positive   \n",
       "9537   The Commissary (grocery store) on base (my fat...  Positive   \n",
       "3979   At the grocery store, the only orange juice ha...  Positive   \n",
       "\n",
       "       sentiment_num  \n",
       "31552              1  \n",
       "7389               1  \n",
       "3367               1  \n",
       "9537               1  \n",
       "3979               1  "
      ]
     },
     "execution_count": 16,
     "metadata": {},
     "output_type": "execute_result"
    }
   ],
   "source": [
    "df_balanced.head()"
   ]
  },
  {
   "cell_type": "markdown",
   "id": "34d0b3a1",
   "metadata": {},
   "source": [
    "### Without Pre-processing"
   ]
  },
  {
   "cell_type": "code",
   "execution_count": 17,
   "id": "3e26b2ed",
   "metadata": {},
   "outputs": [],
   "source": [
    "\n",
    "X_train = df_balanced.OriginalTweet\n",
    "y_train = df_balanced.sentiment_num\n",
    "\n",
    "X_test = df_test.OriginalTweet\n",
    "y_test = df_test.sentiment_num"
   ]
  },
  {
   "cell_type": "code",
   "execution_count": 18,
   "id": "255dab52",
   "metadata": {},
   "outputs": [
    {
     "data": {
      "text/plain": [
       "31552    People please don t forget the food banks Our ...\n",
       "7389     We can't feed the nation without you! \\r\\r\\n\\r...\n",
       "3367     @drdrew Dr. Drew, do you think the United Stat...\n",
       "9537     The Commissary (grocery store) on base (my fat...\n",
       "3979     At the grocery store, the only orange juice ha...\n",
       "Name: OriginalTweet, dtype: object"
      ]
     },
     "execution_count": 18,
     "metadata": {},
     "output_type": "execute_result"
    }
   ],
   "source": [
    "X_train.head()"
   ]
  },
  {
   "cell_type": "code",
   "execution_count": 19,
   "id": "e1081c77",
   "metadata": {},
   "outputs": [
    {
     "data": {
      "text/plain": [
       "((27405,), (27405,))"
      ]
     },
     "execution_count": 19,
     "metadata": {},
     "output_type": "execute_result"
    }
   ],
   "source": [
    "X_train.shape, y_train.shape"
   ]
  },
  {
   "cell_type": "code",
   "execution_count": 20,
   "id": "70c9b611",
   "metadata": {},
   "outputs": [
    {
     "data": {
      "text/plain": [
       "1    5481\n",
       "3    5481\n",
       "2    5481\n",
       "0    5481\n",
       "4    5481\n",
       "Name: sentiment_num, dtype: int64"
      ]
     },
     "execution_count": 20,
     "metadata": {},
     "output_type": "execute_result"
    }
   ],
   "source": [
    "y_train.value_counts()"
   ]
  },
  {
   "cell_type": "code",
   "execution_count": 21,
   "id": "427eb299",
   "metadata": {},
   "outputs": [
    {
     "data": {
      "text/plain": [
       "3    1041\n",
       "1     947\n",
       "2     619\n",
       "0     599\n",
       "4     592\n",
       "Name: sentiment_num, dtype: int64"
      ]
     },
     "execution_count": 21,
     "metadata": {},
     "output_type": "execute_result"
    }
   ],
   "source": [
    "y_test.value_counts()"
   ]
  },
  {
   "cell_type": "markdown",
   "id": "bbcc1d23",
   "metadata": {},
   "source": [
    "### Attempt 1 : Use 1-gram which is nothing but a Bag Of Words (BOW) model"
   ]
  },
  {
   "cell_type": "code",
   "execution_count": 22,
   "id": "fcc64153",
   "metadata": {},
   "outputs": [
    {
     "name": "stdout",
     "output_type": "stream",
     "text": [
      "              precision    recall  f1-score   support\n",
      "\n",
      "           0       0.43      0.71      0.53       599\n",
      "           1       0.43      0.26      0.32       947\n",
      "           2       0.67      0.35      0.46       619\n",
      "           3       0.43      0.25      0.32      1041\n",
      "           4       0.36      0.79      0.49       592\n",
      "\n",
      "    accuracy                           0.42      3798\n",
      "   macro avg       0.46      0.47      0.42      3798\n",
      "weighted avg       0.46      0.42      0.40      3798\n",
      "\n"
     ]
    }
   ],
   "source": [
    "from sklearn.naive_bayes import MultinomialNB\n",
    "from sklearn.pipeline import Pipeline\n",
    "from sklearn.metrics import classification_report\n",
    "\n",
    "#1. create a pipeline object\n",
    "clf = Pipeline([\n",
    "     ('vectorizer_bow', CountVectorizer(ngram_range = (1, 1))),        #using the ngram_range parameter \n",
    "     ('Multi NB', MultinomialNB())         \n",
    "])\n",
    "\n",
    "#2. fit with X_train and y_train\n",
    "clf.fit(X_train, y_train)\n",
    "\n",
    "\n",
    "#3. get the predictions for X_test and store it in y_pred\n",
    "y_pred = clf.predict(X_test)\n",
    "\n",
    "\n",
    "#4. print the classfication report\n",
    "print(classification_report(y_test, y_pred))"
   ]
  },
  {
   "cell_type": "markdown",
   "id": "fbe3587e",
   "metadata": {},
   "source": [
    "### Accurecy Matrix"
   ]
  },
  {
   "cell_type": "code",
   "execution_count": 26,
   "id": "e571d0fb",
   "metadata": {},
   "outputs": [
    {
     "data": {
      "text/plain": [
       "array([[424,  91,   9,  33,  42],\n",
       "       [332, 247,  44, 128, 196],\n",
       "       [ 96,  86, 217,  96, 124],\n",
       "       [126, 127,  49, 258, 481],\n",
       "       [  9,  30,   5,  82, 466]], dtype=int64)"
      ]
     },
     "execution_count": 26,
     "metadata": {},
     "output_type": "execute_result"
    }
   ],
   "source": [
    "from sklearn.metrics import confusion_matrix\n",
    "cm = confusion_matrix(y_test, y_pred)\n",
    "cm"
   ]
  },
  {
   "cell_type": "markdown",
   "id": "060563df",
   "metadata": {},
   "source": [
    "### Attempt 2 : Use 1-gram and bigrams"
   ]
  },
  {
   "cell_type": "code",
   "execution_count": 45,
   "id": "f1e94d1b",
   "metadata": {},
   "outputs": [
    {
     "name": "stdout",
     "output_type": "stream",
     "text": [
      "              precision    recall  f1-score   support\n",
      "\n",
      "           0       0.40      0.71      0.51       599\n",
      "           1       0.38      0.26      0.31       947\n",
      "           2       0.67      0.22      0.33       619\n",
      "           3       0.41      0.22      0.29      1041\n",
      "           4       0.34      0.77      0.47       592\n",
      "\n",
      "    accuracy                           0.39      3798\n",
      "   macro avg       0.44      0.44      0.38      3798\n",
      "weighted avg       0.43      0.39      0.36      3798\n",
      "\n"
     ]
    }
   ],
   "source": [
    "#1. create a pipeline object\n",
    "clf = Pipeline([\n",
    "    ('vectorizer_1_2_gram', CountVectorizer(ngram_range = (1, 2))),        #using the ngram_range parameter \n",
    "     ('Multi NB', MultinomialNB())         \n",
    "])\n",
    "\n",
    "#2. fit with X_train and y_train\n",
    "clf.fit(X_train, y_train)\n",
    "\n",
    "\n",
    "#3. get the predictions for X_test and store it in y_pred\n",
    "y_pred = clf.predict(X_test)\n",
    "\n",
    "\n",
    "#4. print the classfication report\n",
    "print(classification_report(y_test, y_pred))"
   ]
  },
  {
   "cell_type": "markdown",
   "id": "7d4a694a",
   "metadata": {},
   "source": [
    "### Accurecy Matrix"
   ]
  },
  {
   "cell_type": "code",
   "execution_count": 46,
   "id": "ac03f146",
   "metadata": {},
   "outputs": [
    {
     "data": {
      "text/plain": [
       "array([[428,  83,   1,  25,  62],\n",
       "       [374, 243,  23, 112, 195],\n",
       "       [119, 124, 137, 106, 133],\n",
       "       [130, 154,  38, 230, 489],\n",
       "       [ 20,  30,   5,  84, 453]], dtype=int64)"
      ]
     },
     "execution_count": 46,
     "metadata": {},
     "output_type": "execute_result"
    }
   ],
   "source": [
    "from sklearn.metrics import confusion_matrix\n",
    "cm = confusion_matrix(y_test, y_pred)\n",
    "cm"
   ]
  },
  {
   "cell_type": "code",
   "execution_count": null,
   "id": "680083d6",
   "metadata": {},
   "outputs": [],
   "source": []
  },
  {
   "cell_type": "code",
   "execution_count": 30,
   "id": "857c85cc",
   "metadata": {},
   "outputs": [
    {
     "data": {
      "text/html": [
       "<div>\n",
       "<style scoped>\n",
       "    .dataframe tbody tr th:only-of-type {\n",
       "        vertical-align: middle;\n",
       "    }\n",
       "\n",
       "    .dataframe tbody tr th {\n",
       "        vertical-align: top;\n",
       "    }\n",
       "\n",
       "    .dataframe thead th {\n",
       "        text-align: right;\n",
       "    }\n",
       "</style>\n",
       "<table border=\"1\" class=\"dataframe\">\n",
       "  <thead>\n",
       "    <tr style=\"text-align: right;\">\n",
       "      <th></th>\n",
       "      <th>UserName</th>\n",
       "      <th>ScreenName</th>\n",
       "      <th>Location</th>\n",
       "      <th>TweetAt</th>\n",
       "      <th>OriginalTweet</th>\n",
       "      <th>Sentiment</th>\n",
       "      <th>sentiment_num</th>\n",
       "    </tr>\n",
       "  </thead>\n",
       "  <tbody>\n",
       "    <tr>\n",
       "      <th>17428</th>\n",
       "      <td>21227</td>\n",
       "      <td>66179</td>\n",
       "      <td>Mossbank, Sk Canada</td>\n",
       "      <td>23-03-2020</td>\n",
       "      <td>Are you providing or will be providing consume...</td>\n",
       "      <td>Extremely Positive</td>\n",
       "      <td>0</td>\n",
       "    </tr>\n",
       "  </tbody>\n",
       "</table>\n",
       "</div>"
      ],
      "text/plain": [
       "       UserName  ScreenName             Location     TweetAt  \\\n",
       "17428     21227       66179  Mossbank, Sk Canada  23-03-2020   \n",
       "\n",
       "                                           OriginalTweet           Sentiment  \\\n",
       "17428  Are you providing or will be providing consume...  Extremely Positive   \n",
       "\n",
       "       sentiment_num  \n",
       "17428              0  "
      ]
     },
     "execution_count": 30,
     "metadata": {},
     "output_type": "execute_result"
    }
   ],
   "source": [
    "df_balanced.sample()"
   ]
  },
  {
   "cell_type": "markdown",
   "id": "7c262ef1",
   "metadata": {},
   "source": [
    "## Use text pre-processing to remove stop words, punctuations and apply lemmatization"
   ]
  },
  {
   "cell_type": "code",
   "execution_count": 31,
   "id": "605e6c87",
   "metadata": {},
   "outputs": [],
   "source": [
    "df_balanced['preprocessed_txt'] = df_balanced['OriginalTweet'].apply(preprocess)\n",
    "df_test['preprocessed_txt'] = df_test['OriginalTweet'].apply(preprocess)"
   ]
  },
  {
   "cell_type": "code",
   "execution_count": 32,
   "id": "21cd275c",
   "metadata": {},
   "outputs": [],
   "source": [
    "\n",
    "X_train = df_balanced.preprocessed_txt\n",
    "y_train = df_balanced.sentiment_num\n",
    "\n",
    "X_test = df_test.preprocessed_txt\n",
    "y_test = df_test.sentiment_num"
   ]
  },
  {
   "cell_type": "code",
   "execution_count": 33,
   "id": "95b63156",
   "metadata": {},
   "outputs": [
    {
     "name": "stdout",
     "output_type": "stream",
     "text": [
      "(27405,)\n"
     ]
    },
    {
     "data": {
      "text/plain": [
       "31552    People forget food banks local ones desperate ...\n",
       "7389     cant feed nation you impacted current events y...\n",
       "3367      Dr Drew think United States government droppe...\n",
       "9537     Commissary (grocery store) base (my fathers re...\n",
       "3979     grocery store orange juice pulp sour cream lig...\n",
       "Name: preprocessed_txt, dtype: object"
      ]
     },
     "execution_count": 33,
     "metadata": {},
     "output_type": "execute_result"
    }
   ],
   "source": [
    "print(X_train.shape)\n",
    "X_train.head()"
   ]
  },
  {
   "cell_type": "code",
   "execution_count": 34,
   "id": "d3e1588f",
   "metadata": {},
   "outputs": [
    {
     "data": {
      "text/plain": [
       "1    5481\n",
       "3    5481\n",
       "2    5481\n",
       "0    5481\n",
       "4    5481\n",
       "Name: sentiment_num, dtype: int64"
      ]
     },
     "execution_count": 34,
     "metadata": {},
     "output_type": "execute_result"
    }
   ],
   "source": [
    "y_train.value_counts()"
   ]
  },
  {
   "cell_type": "code",
   "execution_count": 35,
   "id": "a34d73a2",
   "metadata": {},
   "outputs": [
    {
     "data": {
      "text/plain": [
       "3    1041\n",
       "1     947\n",
       "2     619\n",
       "0     599\n",
       "4     592\n",
       "Name: sentiment_num, dtype: int64"
      ]
     },
     "execution_count": 35,
     "metadata": {},
     "output_type": "execute_result"
    }
   ],
   "source": [
    "y_test.value_counts()"
   ]
  },
  {
   "cell_type": "code",
   "execution_count": 36,
   "id": "d33a3789",
   "metadata": {},
   "outputs": [
    {
     "name": "stdout",
     "output_type": "stream",
     "text": [
      "              precision    recall  f1-score   support\n",
      "\n",
      "           0       0.45      0.67      0.54       599\n",
      "           1       0.41      0.32      0.36       947\n",
      "           2       0.60      0.37      0.46       619\n",
      "           3       0.40      0.26      0.31      1041\n",
      "           4       0.38      0.72      0.50       592\n",
      "\n",
      "    accuracy                           0.43      3798\n",
      "   macro avg       0.45      0.47      0.43      3798\n",
      "weighted avg       0.44      0.43      0.41      3798\n",
      "\n"
     ]
    }
   ],
   "source": [
    "#1. create a pipeline object\n",
    "clf = Pipeline([\n",
    "    ('vectorizer_bow', CountVectorizer(ngram_range = (1, 1))),        #using the ngram_range parameter \n",
    "    ('Multi NB', MultinomialNB())\n",
    "])\n",
    "\n",
    "#2. fit with X_train and y_train\n",
    "clf.fit(X_train, y_train)\n",
    "\n",
    "\n",
    "#3. get the predictions for X_test and store it in y_pred\n",
    "y_pred = clf.predict(X_test)\n",
    "\n",
    "\n",
    "#4. print the classfication report\n",
    "print(classification_report(y_test, y_pred))"
   ]
  },
  {
   "cell_type": "markdown",
   "id": "7cdcfc9b",
   "metadata": {},
   "source": [
    "### Accurecy Matrix"
   ]
  },
  {
   "cell_type": "code",
   "execution_count": 37,
   "id": "5ce7bf45",
   "metadata": {},
   "outputs": [
    {
     "data": {
      "text/plain": [
       "array([[401, 116,   9,  37,  36],\n",
       "       [320, 303,  47, 145, 132],\n",
       "       [ 79, 108, 228, 102, 102],\n",
       "       [ 80, 175,  87, 268, 431],\n",
       "       [  9,  31,  12, 113, 427]], dtype=int64)"
      ]
     },
     "execution_count": 37,
     "metadata": {},
     "output_type": "execute_result"
    }
   ],
   "source": [
    "from sklearn.metrics import confusion_matrix\n",
    "cm = confusion_matrix(y_test, y_pred)\n",
    "cm"
   ]
  },
  {
   "cell_type": "markdown",
   "id": "ea418764",
   "metadata": {},
   "source": [
    "## Plot confusion matrix"
   ]
  },
  {
   "cell_type": "code",
   "execution_count": 38,
   "id": "730051e2",
   "metadata": {},
   "outputs": [
    {
     "data": {
      "text/plain": [
       "array([[401, 116,   9,  37,  36],\n",
       "       [320, 303,  47, 145, 132],\n",
       "       [ 79, 108, 228, 102, 102],\n",
       "       [ 80, 175,  87, 268, 431],\n",
       "       [  9,  31,  12, 113, 427]], dtype=int64)"
      ]
     },
     "execution_count": 38,
     "metadata": {},
     "output_type": "execute_result"
    }
   ],
   "source": [
    "from sklearn.metrics import confusion_matrix\n",
    "cm = confusion_matrix(y_test, y_pred)\n",
    "cm"
   ]
  },
  {
   "cell_type": "code",
   "execution_count": 39,
   "id": "5e8ec7a6",
   "metadata": {},
   "outputs": [
    {
     "data": {
      "text/plain": [
       "Text(105.0, 0.5, 'Truth')"
      ]
     },
     "execution_count": 39,
     "metadata": {},
     "output_type": "execute_result"
    },
    {
     "data": {
      "image/png": "[encoded data removed]",
      "text/plain": [
       "<Figure size 1008x576 with 2 Axes>"
      ]
     },
     "metadata": {
      "needs_background": "light"
     },
     "output_type": "display_data"
    }
   ],
   "source": [
    "from matplotlib import pyplot as plt\n",
    "import seaborn as sns\n",
    "plt.figure(figsize = (14,8))\n",
    "sns.heatmap(cm, annot=True, fmt='d')\n",
    "plt.xlabel('Prediction')\n",
    "plt.ylabel('Truth')"
   ]
  },
  {
   "cell_type": "code",
   "execution_count": null,
   "id": "a9111bf9",
   "metadata": {},
   "outputs": [],
   "source": []
  },
  {
   "cell_type": "code",
   "execution_count": 40,
   "id": "8fe5b54c",
   "metadata": {},
   "outputs": [],
   "source": [
    "from sklearn.ensemble import RandomForestClassifier"
   ]
  },
  {
   "cell_type": "code",
   "execution_count": 41,
   "id": "05707f73",
   "metadata": {},
   "outputs": [
    {
     "name": "stdout",
     "output_type": "stream",
     "text": [
      "              precision    recall  f1-score   support\n",
      "\n",
      "           0       0.54      0.59      0.57       599\n",
      "           1       0.51      0.37      0.43       947\n",
      "           2       0.47      0.86      0.61       619\n",
      "           3       0.50      0.35      0.41      1041\n",
      "           4       0.50      0.53      0.52       592\n",
      "\n",
      "    accuracy                           0.50      3798\n",
      "   macro avg       0.51      0.54      0.51      3798\n",
      "weighted avg       0.51      0.50      0.49      3798\n",
      "\n"
     ]
    }
   ],
   "source": [
    "#1. create a pipeline object\n",
    "clf = Pipeline([\n",
    "    ('vectorizer_bow', CountVectorizer(ngram_range = (1, 1))),        #using the ngram_range parameter \n",
    "    ('Random Forest', RandomForestClassifier())\n",
    "])\n",
    "\n",
    "clf.fit(X_train, y_train)\n",
    "\n",
    "y_pred = clf.predict(X_test)\n",
    "\n",
    "print(classification_report(y_test, y_pred))"
   ]
  },
  {
   "cell_type": "markdown",
   "id": "7dd6da05",
   "metadata": {},
   "source": [
    "### Accurecy Matrix"
   ]
  },
  {
   "cell_type": "code",
   "execution_count": 42,
   "id": "4a85c41d",
   "metadata": {},
   "outputs": [
    {
     "data": {
      "text/plain": [
       "array([[354, 142,  44,  30,  29],\n",
       "       [205, 348, 213, 118,  63],\n",
       "       [ 11,  26, 532,  35,  15],\n",
       "       [ 63, 143, 270, 360, 205],\n",
       "       [ 18,  24,  63, 171, 316]], dtype=int64)"
      ]
     },
     "execution_count": 42,
     "metadata": {},
     "output_type": "execute_result"
    }
   ],
   "source": [
    "from sklearn.metrics import confusion_matrix\n",
    "cm = confusion_matrix(y_test, y_pred)\n",
    "cm"
   ]
  },
  {
   "cell_type": "code",
   "execution_count": 43,
   "id": "3d9dcd61",
   "metadata": {},
   "outputs": [
    {
     "data": {
      "text/plain": [
       "0.5028962611901"
      ]
     },
     "execution_count": 43,
     "metadata": {},
     "output_type": "execute_result"
    }
   ],
   "source": [
    "clf.score(X_test, y_test) "
   ]
  },
  {
   "cell_type": "code",
   "execution_count": null,
   "id": "ee094513",
   "metadata": {},
   "outputs": [],
   "source": []
  },
  {
   "cell_type": "code",
   "execution_count": null,
   "id": "281c6bc1",
   "metadata": {},
   "outputs": [],
   "source": []
  },
  {
   "cell_type": "markdown",
   "id": "63122a34",
   "metadata": {},
   "source": [
    "# Save the model"
   ]
  },
  {
   "cell_type": "code",
   "execution_count": 1,
   "id": "0a6bd9e7",
   "metadata": {},
   "outputs": [],
   "source": [
    "# import pickle"
   ]
  },
  {
   "cell_type": "code",
   "execution_count": null,
   "id": "0e608d16",
   "metadata": {},
   "outputs": [],
   "source": [
    "# with open('model_pickle','wb') as file:\n",
    "#     pickle.dump(clf,file)"
   ]
  },
  {
   "cell_type": "code",
   "execution_count": null,
   "id": "0b606c0e",
   "metadata": {},
   "outputs": [],
   "source": []
  }
 ],
 "metadata": {
  "kernelspec": {
   "display_name": "Python 3 (ipykernel)",
   "language": "python",
   "name": "python3"
  },
  "language_info": {
   "codemirror_mode": {
    "name": "ipython",
    "version": 3
   },
   "file_extension": ".py",
   "mimetype": "text/x-python",
   "name": "python",
   "nbconvert_exporter": "python",
   "pygments_lexer": "ipython3",
   "version": "3.10.5"
  }
 },
 "nbformat": 4,
 "nbformat_minor": 5
}
