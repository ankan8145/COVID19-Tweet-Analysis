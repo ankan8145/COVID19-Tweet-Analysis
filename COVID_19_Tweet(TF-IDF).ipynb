{
 "cells": [
  {
   "cell_type": "code",
   "execution_count": 1,
   "id": "02cee45f",
   "metadata": {},
   "outputs": [],
   "source": [
    "from sklearn.feature_extraction.text import TfidfVectorizer\n",
    "\n",
    "corpus = [\n",
    "    \"Oneday Debayan sir will give us a party\",\n",
    "    \"Apple is announcing new iphone tomorrow\",\n",
    "    \"Tesla is announcing new model-3 tomorrow\",\n",
    "    \"Google is announcing new pixel-6 tomorrow\",\n",
    "    \"Microsoft is going to launch windows-12\",\n",
    "    \"Amazon is announcing new eco-dot tomorrow\",\n",
    "    \"I am eating biryani and you are eating banana\"\n",
    "]"
   ]
  },
  {
   "cell_type": "code",
   "execution_count": 2,
   "id": "7c998bcd",
   "metadata": {},
   "outputs": [],
   "source": [
    "#let's create the vectorizer and fit the corpus and transform them accordingly\n",
    "v = TfidfVectorizer()\n",
    "v.fit(corpus)\n",
    "transform_output = v.transform(corpus)"
   ]
  },
  {
   "cell_type": "code",
   "execution_count": 6,
   "id": "a5b91849",
   "metadata": {},
   "outputs": [
    {
     "name": "stdout",
     "output_type": "stream",
     "text": [
      "{'oneday': 22, 'debayan': 9, 'sir': 25, 'will': 30, 'give': 13, 'us': 29, 'party': 23, 'apple': 5, 'is': 17, 'announcing': 4, 'new': 21, 'iphone': 16, 'tomorrow': 28, 'tesla': 26, 'model': 20, 'google': 15, 'pixel': 24, 'microsoft': 19, 'going': 14, 'to': 27, 'launch': 18, 'windows': 31, '12': 0, 'amazon': 2, 'eco': 12, 'dot': 10, 'am': 1, 'eating': 11, 'biryani': 8, 'and': 3, 'you': 32, 'are': 6, 'banana': 7}\n"
     ]
    }
   ],
   "source": [
    "print(v.vocabulary_)"
   ]
  },
  {
   "cell_type": "code",
   "execution_count": 7,
   "id": "371c65e2",
   "metadata": {},
   "outputs": [
    {
     "name": "stdout",
     "output_type": "stream",
     "text": [
      "12 : 2.386294361119891\n",
      "am : 2.386294361119891\n",
      "amazon : 2.386294361119891\n",
      "and : 2.386294361119891\n",
      "announcing : 1.4700036292457357\n",
      "apple : 2.386294361119891\n",
      "are : 2.386294361119891\n",
      "banana : 2.386294361119891\n",
      "biryani : 2.386294361119891\n",
      "debayan : 2.386294361119891\n",
      "dot : 2.386294361119891\n",
      "eating : 2.386294361119891\n",
      "eco : 2.386294361119891\n",
      "give : 2.386294361119891\n",
      "going : 2.386294361119891\n",
      "google : 2.386294361119891\n",
      "iphone : 2.386294361119891\n",
      "is : 1.2876820724517808\n",
      "launch : 2.386294361119891\n",
      "microsoft : 2.386294361119891\n",
      "model : 2.386294361119891\n",
      "new : 1.4700036292457357\n",
      "oneday : 2.386294361119891\n",
      "party : 2.386294361119891\n",
      "pixel : 2.386294361119891\n",
      "sir : 2.386294361119891\n",
      "tesla : 2.386294361119891\n",
      "to : 2.386294361119891\n",
      "tomorrow : 1.4700036292457357\n",
      "us : 2.386294361119891\n",
      "will : 2.386294361119891\n",
      "windows : 2.386294361119891\n",
      "you : 2.386294361119891\n"
     ]
    }
   ],
   "source": [
    "#let's print the idf of each word:\n",
    "\n",
    "all_feature_names = v.get_feature_names_out()\n",
    "\n",
    "for word in all_feature_names:\n",
    "    \n",
    "    #let's get the index in the vocabulary\n",
    "    indx = v.vocabulary_.get(word)\n",
    "    \n",
    "    #get the score\n",
    "    idf_score = v.idf_[indx]\n",
    "    \n",
    "    print(f\"{word} : {idf_score}\")"
   ]
  },
  {
   "cell_type": "code",
   "execution_count": 9,
   "id": "3fa7aa1b",
   "metadata": {},
   "outputs": [
    {
     "name": "stdout",
     "output_type": "stream",
     "text": [
      "[[0.         0.         0.         0.         0.         0.\n",
      "  0.         0.         0.         0.37796447 0.         0.\n",
      "  0.         0.37796447 0.         0.         0.         0.\n",
      "  0.         0.         0.         0.         0.37796447 0.37796447\n",
      "  0.         0.37796447 0.         0.         0.         0.37796447\n",
      "  0.37796447 0.         0.        ]\n",
      " [0.         0.         0.         0.         0.3326374  0.53997877\n",
      "  0.         0.         0.         0.         0.         0.\n",
      "  0.         0.         0.         0.         0.53997877 0.29138106\n",
      "  0.         0.         0.         0.3326374  0.         0.\n",
      "  0.         0.         0.         0.         0.3326374  0.\n",
      "  0.         0.         0.        ]]\n"
     ]
    }
   ],
   "source": [
    "#let's print the transformed output from tf-idf\n",
    "print(transform_output.toarray()[:2])"
   ]
  },
  {
   "cell_type": "code",
   "execution_count": null,
   "id": "433f34a7",
   "metadata": {},
   "outputs": [],
   "source": [
    "# !python -m spacy download en"
   ]
  },
  {
   "cell_type": "code",
   "execution_count": 10,
   "id": "69d3ed02",
   "metadata": {},
   "outputs": [],
   "source": [
    "import spacy\n",
    "# import neattext.functions as nfx\n",
    "import neattext as nt\n",
    "\n",
    "# load english language model and create nlp object from it\n",
    "nlp = spacy.load(\"en_core_web_sm\") \n",
    "\n",
    "def preprocess(text): \n",
    "    docx = nt.TextFrame(text)\n",
    "    text = docx.remove_hashtags()\n",
    "    text = docx.remove_stopwords(lang='en')\n",
    "    text = docx.remove_userhandles()\n",
    "    text = docx.remove_urls()\n",
    "    text = docx.remove_emojis()\n",
    "    text = docx.remove_html_tags()\n",
    "    text = docx.remove_puncts()\n",
    "    text = docx.remove_multiple_spaces()\n",
    "    text = str(text)\n",
    "    return text"
   ]
  },
  {
   "cell_type": "code",
   "execution_count": 11,
   "id": "681fc9d9",
   "metadata": {},
   "outputs": [
    {
     "name": "stdout",
     "output_type": "stream",
     "text": [
      " mail our \n"
     ]
    }
   ],
   "source": [
    "print(preprocess(\"@xyz This is the mail      ,our #WEBSITE is https://example.com 😊.\"))"
   ]
  },
  {
   "cell_type": "code",
   "execution_count": null,
   "id": "8d238c0e",
   "metadata": {},
   "outputs": [],
   "source": []
  },
  {
   "cell_type": "code",
   "execution_count": null,
   "id": "f7b17e52",
   "metadata": {},
   "outputs": [],
   "source": []
  },
  {
   "cell_type": "code",
   "execution_count": null,
   "id": "d2b61c54",
   "metadata": {},
   "outputs": [],
   "source": []
  },
  {
   "cell_type": "code",
   "execution_count": null,
   "id": "7027606c",
   "metadata": {},
   "outputs": [],
   "source": []
  },
  {
   "cell_type": "code",
   "execution_count": null,
   "id": "b6ab7685",
   "metadata": {},
   "outputs": [],
   "source": []
  },
  {
   "cell_type": "code",
   "execution_count": null,
   "id": "eaafb3d6",
   "metadata": {},
   "outputs": [],
   "source": []
  },
  {
   "cell_type": "code",
   "execution_count": null,
   "id": "1578ce7d",
   "metadata": {},
   "outputs": [],
   "source": []
  },
  {
   "cell_type": "code",
   "execution_count": null,
   "id": "025a62b2",
   "metadata": {},
   "outputs": [],
   "source": []
  },
  {
   "cell_type": "code",
   "execution_count": null,
   "id": "fccd19c9",
   "metadata": {},
   "outputs": [],
   "source": []
  },
  {
   "cell_type": "code",
   "execution_count": null,
   "id": "bd60564b",
   "metadata": {},
   "outputs": [],
   "source": []
  },
  {
   "cell_type": "code",
   "execution_count": null,
   "id": "c100daa3",
   "metadata": {},
   "outputs": [],
   "source": []
  },
  {
   "cell_type": "code",
   "execution_count": 12,
   "id": "c76d5ce1",
   "metadata": {},
   "outputs": [],
   "source": [
    "import pandas as pd\n",
    "\n",
    "df_train = pd.read_csv( 'Corona_NLP_train.csv' , encoding='ISO-8859-1', index_col= False )\n",
    "df_test = pd.read_csv('Corona_NLP_test.csv', encoding='ISO-8859-1', index_col= False )"
   ]
  },
  {
   "cell_type": "code",
   "execution_count": 13,
   "id": "313a49d9",
   "metadata": {},
   "outputs": [
    {
     "data": {
      "text/plain": [
       "((41157, 6), (3798, 6))"
      ]
     },
     "execution_count": 13,
     "metadata": {},
     "output_type": "execute_result"
    }
   ],
   "source": [
    "df_train.shape, df_test.shape"
   ]
  },
  {
   "cell_type": "code",
   "execution_count": 14,
   "id": "4ba9dfd7",
   "metadata": {},
   "outputs": [
    {
     "data": {
      "text/html": [
       "<div>\n",
       "<style scoped>\n",
       "    .dataframe tbody tr th:only-of-type {\n",
       "        vertical-align: middle;\n",
       "    }\n",
       "\n",
       "    .dataframe tbody tr th {\n",
       "        vertical-align: top;\n",
       "    }\n",
       "\n",
       "    .dataframe thead th {\n",
       "        text-align: right;\n",
       "    }\n",
       "</style>\n",
       "<table border=\"1\" class=\"dataframe\">\n",
       "  <thead>\n",
       "    <tr style=\"text-align: right;\">\n",
       "      <th></th>\n",
       "      <th>UserName</th>\n",
       "      <th>ScreenName</th>\n",
       "      <th>Location</th>\n",
       "      <th>TweetAt</th>\n",
       "      <th>OriginalTweet</th>\n",
       "      <th>Sentiment</th>\n",
       "    </tr>\n",
       "  </thead>\n",
       "  <tbody>\n",
       "    <tr>\n",
       "      <th>0</th>\n",
       "      <td>3799</td>\n",
       "      <td>48751</td>\n",
       "      <td>London</td>\n",
       "      <td>16-03-2020</td>\n",
       "      <td>@MeNyrbie @Phil_Gahan @Chrisitv https://t.co/i...</td>\n",
       "      <td>Neutral</td>\n",
       "    </tr>\n",
       "    <tr>\n",
       "      <th>1</th>\n",
       "      <td>3800</td>\n",
       "      <td>48752</td>\n",
       "      <td>UK</td>\n",
       "      <td>16-03-2020</td>\n",
       "      <td>advice Talk to your neighbours family to excha...</td>\n",
       "      <td>Positive</td>\n",
       "    </tr>\n",
       "    <tr>\n",
       "      <th>2</th>\n",
       "      <td>3801</td>\n",
       "      <td>48753</td>\n",
       "      <td>Vagabonds</td>\n",
       "      <td>16-03-2020</td>\n",
       "      <td>Coronavirus Australia: Woolworths to give elde...</td>\n",
       "      <td>Positive</td>\n",
       "    </tr>\n",
       "    <tr>\n",
       "      <th>3</th>\n",
       "      <td>3802</td>\n",
       "      <td>48754</td>\n",
       "      <td>NaN</td>\n",
       "      <td>16-03-2020</td>\n",
       "      <td>My food stock is not the only one which is emp...</td>\n",
       "      <td>Positive</td>\n",
       "    </tr>\n",
       "    <tr>\n",
       "      <th>4</th>\n",
       "      <td>3803</td>\n",
       "      <td>48755</td>\n",
       "      <td>NaN</td>\n",
       "      <td>16-03-2020</td>\n",
       "      <td>Me, ready to go at supermarket during the #COV...</td>\n",
       "      <td>Extremely Negative</td>\n",
       "    </tr>\n",
       "  </tbody>\n",
       "</table>\n",
       "</div>"
      ],
      "text/plain": [
       "   UserName  ScreenName   Location     TweetAt  \\\n",
       "0      3799       48751     London  16-03-2020   \n",
       "1      3800       48752         UK  16-03-2020   \n",
       "2      3801       48753  Vagabonds  16-03-2020   \n",
       "3      3802       48754        NaN  16-03-2020   \n",
       "4      3803       48755        NaN  16-03-2020   \n",
       "\n",
       "                                       OriginalTweet           Sentiment  \n",
       "0  @MeNyrbie @Phil_Gahan @Chrisitv https://t.co/i...             Neutral  \n",
       "1  advice Talk to your neighbours family to excha...            Positive  \n",
       "2  Coronavirus Australia: Woolworths to give elde...            Positive  \n",
       "3  My food stock is not the only one which is emp...            Positive  \n",
       "4  Me, ready to go at supermarket during the #COV...  Extremely Negative  "
      ]
     },
     "execution_count": 14,
     "metadata": {},
     "output_type": "execute_result"
    }
   ],
   "source": [
    "df_train.head()"
   ]
  },
  {
   "cell_type": "code",
   "execution_count": 15,
   "id": "8429732c",
   "metadata": {},
   "outputs": [
    {
     "data": {
      "text/plain": [
       "Positive              11422\n",
       "Negative               9917\n",
       "Neutral                7713\n",
       "Extremely Positive     6624\n",
       "Extremely Negative     5481\n",
       "Name: Sentiment, dtype: int64"
      ]
     },
     "execution_count": 15,
     "metadata": {},
     "output_type": "execute_result"
    }
   ],
   "source": [
    "df_train.Sentiment.value_counts()"
   ]
  },
  {
   "cell_type": "code",
   "execution_count": 16,
   "id": "ca213905",
   "metadata": {},
   "outputs": [
    {
     "data": {
      "text/plain": [
       "Negative              1041\n",
       "Positive               947\n",
       "Neutral                619\n",
       "Extremely Positive     599\n",
       "Extremely Negative     592\n",
       "Name: Sentiment, dtype: int64"
      ]
     },
     "execution_count": 16,
     "metadata": {},
     "output_type": "execute_result"
    }
   ],
   "source": [
    "df_test.Sentiment.value_counts()"
   ]
  },
  {
   "cell_type": "code",
   "execution_count": 17,
   "id": "33ad0808",
   "metadata": {},
   "outputs": [],
   "source": [
    "min_samples = 5481 # we have these many SCIENCE articles and SCIENCE is our minority class\n",
    "\n",
    "df_Positive = df_train[df_train.Sentiment==\"Positive\"].sample(min_samples, random_state=28)\n",
    "df_negetive = df_train[df_train.Sentiment==\"Negative\"].sample(min_samples, random_state=28)\n",
    "df_neutral = df_train[df_train.Sentiment==\"Neutral\"].sample(min_samples, random_state=28)\n",
    "df_ex_positive = df_train[df_train.Sentiment==\"Extremely Positive\"].sample(min_samples, random_state=28)\n",
    "df_ex_negetive = df_train[df_train.Sentiment==\"Extremely Negative\"].sample(min_samples, random_state=28)"
   ]
  },
  {
   "cell_type": "code",
   "execution_count": 18,
   "id": "030f5ba0",
   "metadata": {},
   "outputs": [
    {
     "data": {
      "text/plain": [
       "Positive              5481\n",
       "Negative              5481\n",
       "Neutral               5481\n",
       "Extremely Positive    5481\n",
       "Extremely Negative    5481\n",
       "Name: Sentiment, dtype: int64"
      ]
     },
     "execution_count": 18,
     "metadata": {},
     "output_type": "execute_result"
    }
   ],
   "source": [
    "df_balanced = pd.concat([df_Positive,df_negetive,df_neutral,df_ex_positive,df_ex_negetive],axis=0)\n",
    "df_balanced.Sentiment.value_counts()"
   ]
  },
  {
   "cell_type": "code",
   "execution_count": 19,
   "id": "41ac8208",
   "metadata": {},
   "outputs": [],
   "source": [
    "target = {'Extremely Positive': 0, 'Positive': 1, 'Neutral': 2, 'Negative': 3, 'Extremely Negative': 4 }\n",
    "# target = {'Extremely Positive': 0, 'Positive': 0, 'Neutral': 1, 'Negative': 2, 'Extremely Negative': 2 }\n",
    "\n",
    "df_balanced['sentiment_num'] = df_balanced['Sentiment'].map(target)\n",
    "df_test['sentiment_num'] = df_test['Sentiment'].map(target)"
   ]
  },
  {
   "cell_type": "code",
   "execution_count": 20,
   "id": "be44c444",
   "metadata": {},
   "outputs": [
    {
     "data": {
      "text/html": [
       "<div>\n",
       "<style scoped>\n",
       "    .dataframe tbody tr th:only-of-type {\n",
       "        vertical-align: middle;\n",
       "    }\n",
       "\n",
       "    .dataframe tbody tr th {\n",
       "        vertical-align: top;\n",
       "    }\n",
       "\n",
       "    .dataframe thead th {\n",
       "        text-align: right;\n",
       "    }\n",
       "</style>\n",
       "<table border=\"1\" class=\"dataframe\">\n",
       "  <thead>\n",
       "    <tr style=\"text-align: right;\">\n",
       "      <th></th>\n",
       "      <th>UserName</th>\n",
       "      <th>ScreenName</th>\n",
       "      <th>Location</th>\n",
       "      <th>TweetAt</th>\n",
       "      <th>OriginalTweet</th>\n",
       "      <th>Sentiment</th>\n",
       "      <th>sentiment_num</th>\n",
       "    </tr>\n",
       "  </thead>\n",
       "  <tbody>\n",
       "    <tr>\n",
       "      <th>31552</th>\n",
       "      <td>35351</td>\n",
       "      <td>80303</td>\n",
       "      <td>NaN</td>\n",
       "      <td>07-04-2020</td>\n",
       "      <td>People please don t forget the food banks Our ...</td>\n",
       "      <td>Positive</td>\n",
       "      <td>1</td>\n",
       "    </tr>\n",
       "    <tr>\n",
       "      <th>7389</th>\n",
       "      <td>11188</td>\n",
       "      <td>56140</td>\n",
       "      <td>Comber, Northern Ireland</td>\n",
       "      <td>19-03-2020</td>\n",
       "      <td>We can't feed the nation without you! \\r\\r\\n\\r...</td>\n",
       "      <td>Positive</td>\n",
       "      <td>1</td>\n",
       "    </tr>\n",
       "    <tr>\n",
       "      <th>3367</th>\n",
       "      <td>7166</td>\n",
       "      <td>52118</td>\n",
       "      <td>Benicia, California, USA</td>\n",
       "      <td>18-03-2020</td>\n",
       "      <td>@drdrew Dr. Drew, do you think the United Stat...</td>\n",
       "      <td>Positive</td>\n",
       "      <td>1</td>\n",
       "    </tr>\n",
       "    <tr>\n",
       "      <th>9537</th>\n",
       "      <td>13336</td>\n",
       "      <td>58288</td>\n",
       "      <td>Philadelphia</td>\n",
       "      <td>20-03-2020</td>\n",
       "      <td>The Commissary (grocery store) on base (my fat...</td>\n",
       "      <td>Positive</td>\n",
       "      <td>1</td>\n",
       "    </tr>\n",
       "    <tr>\n",
       "      <th>3979</th>\n",
       "      <td>7778</td>\n",
       "      <td>52730</td>\n",
       "      <td>Vermilion, OH</td>\n",
       "      <td>18-03-2020</td>\n",
       "      <td>At the grocery store, the only orange juice ha...</td>\n",
       "      <td>Positive</td>\n",
       "      <td>1</td>\n",
       "    </tr>\n",
       "  </tbody>\n",
       "</table>\n",
       "</div>"
      ],
      "text/plain": [
       "       UserName  ScreenName                  Location     TweetAt  \\\n",
       "31552     35351       80303                       NaN  07-04-2020   \n",
       "7389      11188       56140  Comber, Northern Ireland  19-03-2020   \n",
       "3367       7166       52118  Benicia, California, USA  18-03-2020   \n",
       "9537      13336       58288              Philadelphia  20-03-2020   \n",
       "3979       7778       52730             Vermilion, OH  18-03-2020   \n",
       "\n",
       "                                           OriginalTweet Sentiment  \\\n",
       "31552  People please don t forget the food banks Our ...  Positive   \n",
       "7389   We can't feed the nation without you! \\r\\r\\n\\r...  Positive   \n",
       "3367   @drdrew Dr. Drew, do you think the United Stat...  Positive   \n",
       "9537   The Commissary (grocery store) on base (my fat...  Positive   \n",
       "3979   At the grocery store, the only orange juice ha...  Positive   \n",
       "\n",
       "       sentiment_num  \n",
       "31552              1  \n",
       "7389               1  \n",
       "3367               1  \n",
       "9537               1  \n",
       "3979               1  "
      ]
     },
     "execution_count": 20,
     "metadata": {},
     "output_type": "execute_result"
    }
   ],
   "source": [
    "df_balanced.head()"
   ]
  },
  {
   "cell_type": "markdown",
   "id": "75ede846",
   "metadata": {},
   "source": [
    "### Without Pre-processing"
   ]
  },
  {
   "cell_type": "code",
   "execution_count": 21,
   "id": "557ea2c8",
   "metadata": {},
   "outputs": [],
   "source": [
    "\n",
    "X_train = df_balanced.OriginalTweet\n",
    "y_train = df_balanced.sentiment_num\n",
    "\n",
    "X_test = df_test.OriginalTweet\n",
    "y_test = df_test.sentiment_num"
   ]
  },
  {
   "cell_type": "code",
   "execution_count": 22,
   "id": "75566b3d",
   "metadata": {},
   "outputs": [
    {
     "data": {
      "text/plain": [
       "31552    People please don t forget the food banks Our ...\n",
       "7389     We can't feed the nation without you! \\r\\r\\n\\r...\n",
       "3367     @drdrew Dr. Drew, do you think the United Stat...\n",
       "9537     The Commissary (grocery store) on base (my fat...\n",
       "3979     At the grocery store, the only orange juice ha...\n",
       "Name: OriginalTweet, dtype: object"
      ]
     },
     "execution_count": 22,
     "metadata": {},
     "output_type": "execute_result"
    }
   ],
   "source": [
    "X_train.head()"
   ]
  },
  {
   "cell_type": "code",
   "execution_count": 23,
   "id": "c942868d",
   "metadata": {},
   "outputs": [
    {
     "data": {
      "text/plain": [
       "((27405,), (27405,))"
      ]
     },
     "execution_count": 23,
     "metadata": {},
     "output_type": "execute_result"
    }
   ],
   "source": [
    "X_train.shape, y_train.shape"
   ]
  },
  {
   "cell_type": "code",
   "execution_count": 24,
   "id": "faa1d1c3",
   "metadata": {},
   "outputs": [
    {
     "data": {
      "text/plain": [
       "1    5481\n",
       "3    5481\n",
       "2    5481\n",
       "0    5481\n",
       "4    5481\n",
       "Name: sentiment_num, dtype: int64"
      ]
     },
     "execution_count": 24,
     "metadata": {},
     "output_type": "execute_result"
    }
   ],
   "source": [
    "y_train.value_counts()"
   ]
  },
  {
   "cell_type": "code",
   "execution_count": 25,
   "id": "7ce22d7a",
   "metadata": {},
   "outputs": [
    {
     "data": {
      "text/plain": [
       "3    1041\n",
       "1     947\n",
       "2     619\n",
       "0     599\n",
       "4     592\n",
       "Name: sentiment_num, dtype: int64"
      ]
     },
     "execution_count": 25,
     "metadata": {},
     "output_type": "execute_result"
    }
   ],
   "source": [
    "y_test.value_counts()"
   ]
  },
  {
   "cell_type": "markdown",
   "id": "7c0f5c1f",
   "metadata": {},
   "source": [
    "### Attempt 1 : \n",
    "   + use TF-IDF for pre-processing the text.\n",
    "   + use MultinomialNB as the classifier.\n",
    "   + print the classification report."
   ]
  },
  {
   "cell_type": "code",
   "execution_count": 27,
   "id": "c6a0c22f",
   "metadata": {},
   "outputs": [
    {
     "name": "stdout",
     "output_type": "stream",
     "text": [
      "              precision    recall  f1-score   support\n",
      "\n",
      "           0       0.41      0.78      0.54       599\n",
      "           1       0.44      0.23      0.30       947\n",
      "           2       0.67      0.24      0.36       619\n",
      "           3       0.43      0.21      0.29      1041\n",
      "           4       0.34      0.82      0.48       592\n",
      "\n",
      "    accuracy                           0.41      3798\n",
      "   macro avg       0.46      0.46      0.39      3798\n",
      "weighted avg       0.46      0.41      0.37      3798\n",
      "\n"
     ]
    }
   ],
   "source": [
    "from sklearn.naive_bayes import MultinomialNB\n",
    "from sklearn.pipeline import Pipeline\n",
    "from sklearn.metrics import classification_report\n",
    "\n",
    "#1. create a pipeline object\n",
    "clf = Pipeline([\n",
    "     ('vectorizer_tfidf',TfidfVectorizer()),    \n",
    "     ('Multi NB', MultinomialNB())         \n",
    "])\n",
    "\n",
    "clf.fit(X_train, y_train)\n",
    "\n",
    "y_pred = clf.predict(X_test)\n",
    "\n",
    "print(classification_report(y_test, y_pred))"
   ]
  },
  {
   "cell_type": "markdown",
   "id": "fb65de2e",
   "metadata": {},
   "source": [
    "### Attempt 2 : "
   ]
  },
  {
   "cell_type": "code",
   "execution_count": 26,
   "id": "923c633f",
   "metadata": {},
   "outputs": [
    {
     "name": "stdout",
     "output_type": "stream",
     "text": [
      "              precision    recall  f1-score   support\n",
      "\n",
      "           0       0.34      0.49      0.40       599\n",
      "           1       0.31      0.26      0.28       947\n",
      "           2       0.30      0.48      0.37       619\n",
      "           3       0.36      0.19      0.25      1041\n",
      "           4       0.38      0.37      0.38       592\n",
      "\n",
      "    accuracy                           0.33      3798\n",
      "   macro avg       0.34      0.36      0.34      3798\n",
      "weighted avg       0.34      0.33      0.32      3798\n",
      "\n"
     ]
    }
   ],
   "source": [
    "from sklearn.neighbors import KNeighborsClassifier\n",
    "\n",
    "#1. create a pipeline object\n",
    "clf = Pipeline([\n",
    "     ('vectorizer_tfidf',TfidfVectorizer()),    \n",
    "     ('KNN', KNeighborsClassifier())         \n",
    "])\n",
    "\n",
    "clf.fit(X_train, y_train)\n",
    "\n",
    "y_pred = clf.predict(X_test)\n",
    "\n",
    "print(classification_report(y_test, y_pred))"
   ]
  },
  {
   "cell_type": "markdown",
   "id": "32fe29df",
   "metadata": {},
   "source": [
    "### Attempt 3 :"
   ]
  },
  {
   "cell_type": "code",
   "execution_count": 28,
   "id": "cba2c20c",
   "metadata": {
    "scrolled": true
   },
   "outputs": [
    {
     "name": "stdout",
     "output_type": "stream",
     "text": [
      "              precision    recall  f1-score   support\n",
      "\n",
      "           0       0.46      0.63      0.54       599\n",
      "           1       0.42      0.19      0.26       947\n",
      "           2       0.40      0.75      0.52       619\n",
      "           3       0.42      0.20      0.27      1041\n",
      "           4       0.43      0.65      0.52       592\n",
      "\n",
      "    accuracy                           0.42      3798\n",
      "   macro avg       0.43      0.48      0.42      3798\n",
      "weighted avg       0.42      0.42      0.39      3798\n",
      "\n"
     ]
    }
   ],
   "source": [
    "from sklearn.ensemble import RandomForestClassifier\n",
    "\n",
    "#1. create a pipeline object\n",
    "clf = Pipeline([\n",
    "     ('vectorizer_tfidf',TfidfVectorizer()),    \n",
    "     ('RF', RandomForestClassifier())         \n",
    "])\n",
    "\n",
    "clf.fit(X_train, y_train)\n",
    "\n",
    "y_pred = clf.predict(X_test)\n",
    "\n",
    "print(classification_report(y_test, y_pred))"
   ]
  },
  {
   "cell_type": "code",
   "execution_count": null,
   "id": "ec2677f1",
   "metadata": {},
   "outputs": [],
   "source": []
  },
  {
   "cell_type": "code",
   "execution_count": null,
   "id": "f45a6e7c",
   "metadata": {},
   "outputs": [],
   "source": []
  },
  {
   "cell_type": "code",
   "execution_count": 29,
   "id": "a1dfdb02",
   "metadata": {},
   "outputs": [
    {
     "data": {
      "text/html": [
       "<div>\n",
       "<style scoped>\n",
       "    .dataframe tbody tr th:only-of-type {\n",
       "        vertical-align: middle;\n",
       "    }\n",
       "\n",
       "    .dataframe tbody tr th {\n",
       "        vertical-align: top;\n",
       "    }\n",
       "\n",
       "    .dataframe thead th {\n",
       "        text-align: right;\n",
       "    }\n",
       "</style>\n",
       "<table border=\"1\" class=\"dataframe\">\n",
       "  <thead>\n",
       "    <tr style=\"text-align: right;\">\n",
       "      <th></th>\n",
       "      <th>UserName</th>\n",
       "      <th>ScreenName</th>\n",
       "      <th>Location</th>\n",
       "      <th>TweetAt</th>\n",
       "      <th>OriginalTweet</th>\n",
       "      <th>Sentiment</th>\n",
       "      <th>sentiment_num</th>\n",
       "    </tr>\n",
       "  </thead>\n",
       "  <tbody>\n",
       "    <tr>\n",
       "      <th>9800</th>\n",
       "      <td>13599</td>\n",
       "      <td>58551</td>\n",
       "      <td>NaN</td>\n",
       "      <td>20-03-2020</td>\n",
       "      <td>.@mcorkery5 @yaffebellany @rachelwharton Scare...</td>\n",
       "      <td>Negative</td>\n",
       "      <td>3</td>\n",
       "    </tr>\n",
       "  </tbody>\n",
       "</table>\n",
       "</div>"
      ],
      "text/plain": [
       "      UserName  ScreenName Location     TweetAt  \\\n",
       "9800     13599       58551      NaN  20-03-2020   \n",
       "\n",
       "                                          OriginalTweet Sentiment  \\\n",
       "9800  .@mcorkery5 @yaffebellany @rachelwharton Scare...  Negative   \n",
       "\n",
       "      sentiment_num  \n",
       "9800              3  "
      ]
     },
     "execution_count": 29,
     "metadata": {},
     "output_type": "execute_result"
    }
   ],
   "source": [
    "df_balanced.sample()"
   ]
  },
  {
   "cell_type": "markdown",
   "id": "cb235cec",
   "metadata": {},
   "source": [
    "## Use text pre-processing to remove stop words, punctuations and apply lemmatization"
   ]
  },
  {
   "cell_type": "code",
   "execution_count": 32,
   "id": "e923eba9",
   "metadata": {},
   "outputs": [],
   "source": [
    "df_balanced['preprocessed_txt'] = df_balanced['OriginalTweet'].apply(preprocess)\n",
    "df_test['preprocessed_txt'] = df_test['OriginalTweet'].apply(preprocess)"
   ]
  },
  {
   "cell_type": "code",
   "execution_count": 33,
   "id": "7f3bb2cd",
   "metadata": {},
   "outputs": [],
   "source": [
    "\n",
    "X_train = df_balanced.preprocessed_txt\n",
    "y_train = df_balanced.sentiment_num\n",
    "\n",
    "X_test = df_test.preprocessed_txt\n",
    "y_test = df_test.sentiment_num"
   ]
  },
  {
   "cell_type": "code",
   "execution_count": 34,
   "id": "016dfa0d",
   "metadata": {},
   "outputs": [
    {
     "name": "stdout",
     "output_type": "stream",
     "text": [
      "(27405,)\n"
     ]
    },
    {
     "data": {
      "text/plain": [
       "31552    People forget food banks local ones desperate ...\n",
       "7389     cant feed nation you impacted current events y...\n",
       "3367      Dr Drew think United States government droppe...\n",
       "9537     Commissary (grocery store) base (my fathers re...\n",
       "3979     grocery store orange juice pulp sour cream lig...\n",
       "Name: preprocessed_txt, dtype: object"
      ]
     },
     "execution_count": 34,
     "metadata": {},
     "output_type": "execute_result"
    }
   ],
   "source": [
    "print(X_train.shape)\n",
    "X_train.head()"
   ]
  },
  {
   "cell_type": "code",
   "execution_count": 35,
   "id": "7bcd40b0",
   "metadata": {},
   "outputs": [
    {
     "data": {
      "text/plain": [
       "1    5481\n",
       "3    5481\n",
       "2    5481\n",
       "0    5481\n",
       "4    5481\n",
       "Name: sentiment_num, dtype: int64"
      ]
     },
     "execution_count": 35,
     "metadata": {},
     "output_type": "execute_result"
    }
   ],
   "source": [
    "y_train.value_counts()"
   ]
  },
  {
   "cell_type": "code",
   "execution_count": 36,
   "id": "f7a00522",
   "metadata": {},
   "outputs": [
    {
     "data": {
      "text/plain": [
       "3    1041\n",
       "1     947\n",
       "2     619\n",
       "0     599\n",
       "4     592\n",
       "Name: sentiment_num, dtype: int64"
      ]
     },
     "execution_count": 36,
     "metadata": {},
     "output_type": "execute_result"
    }
   ],
   "source": [
    "y_test.value_counts()"
   ]
  },
  {
   "cell_type": "code",
   "execution_count": 37,
   "id": "eb29ea2a",
   "metadata": {
    "scrolled": false
   },
   "outputs": [
    {
     "name": "stdout",
     "output_type": "stream",
     "text": [
      "              precision    recall  f1-score   support\n",
      "\n",
      "           0       0.44      0.71      0.54       599\n",
      "           1       0.43      0.32      0.37       947\n",
      "           2       0.63      0.37      0.47       619\n",
      "           3       0.44      0.27      0.34      1041\n",
      "           4       0.39      0.73      0.51       592\n",
      "\n",
      "    accuracy                           0.44      3798\n",
      "   macro avg       0.47      0.48      0.44      3798\n",
      "weighted avg       0.46      0.44      0.42      3798\n",
      "\n"
     ]
    }
   ],
   "source": [
    "from sklearn.naive_bayes import MultinomialNB\n",
    "from sklearn.pipeline import Pipeline\n",
    "from sklearn.metrics import classification_report\n",
    "\n",
    "#1. create a pipeline object\n",
    "clf = Pipeline([\n",
    "     ('vectorizer_tfidf',TfidfVectorizer()),    \n",
    "     ('Multi NB', MultinomialNB())         \n",
    "])\n",
    "\n",
    "clf.fit(X_train, y_train)\n",
    "\n",
    "y_pred = clf.predict(X_test)\n",
    "\n",
    "print(classification_report(y_test, y_pred))"
   ]
  },
  {
   "cell_type": "code",
   "execution_count": 46,
   "id": "9efef7bd",
   "metadata": {},
   "outputs": [
    {
     "name": "stdout",
     "output_type": "stream",
     "text": [
      "              precision    recall  f1-score   support\n",
      "\n",
      "           0       0.86      0.02      0.04       599\n",
      "           1       0.58      0.01      0.01       947\n",
      "           2       0.16      1.00      0.28       619\n",
      "           3       0.57      0.00      0.01      1041\n",
      "           4       0.00      0.00      0.00       592\n",
      "\n",
      "    accuracy                           0.17      3798\n",
      "   macro avg       0.44      0.21      0.07      3798\n",
      "weighted avg       0.46      0.17      0.06      3798\n",
      "\n"
     ]
    }
   ],
   "source": [
    "from sklearn.neighbors import KNeighborsClassifier\n",
    "\n",
    "#1. create a pipeline object\n",
    "clf = Pipeline([\n",
    "     ('vectorizer_tfidf',TfidfVectorizer()),    \n",
    "     ('KNN', KNeighborsClassifier())         \n",
    "])\n",
    "\n",
    "clf.fit(X_train, y_train)\n",
    "\n",
    "y_pred = clf.predict(X_test)\n",
    "\n",
    "print(classification_report(y_test, y_pred))"
   ]
  },
  {
   "cell_type": "code",
   "execution_count": null,
   "id": "2716c107",
   "metadata": {},
   "outputs": [],
   "source": [
    "from sklearn.ensemble import RandomForestClassifier\n",
    "\n",
    "#1. create a pipeline object\n",
    "clf = Pipeline([\n",
    "     ('vectorizer_tfidf',TfidfVectorizer()),    \n",
    "     ('RF', RandomForestClassifier())         \n",
    "])\n",
    "\n",
    "clf.fit(X_train, y_train)\n",
    "\n",
    "y_pred = clf.predict(X_test)\n",
    "\n",
    "print(classification_report(y_test, y_pred))"
   ]
  },
  {
   "cell_type": "markdown",
   "id": "a9d043e7",
   "metadata": {},
   "source": [
    "## Plot confusion matrix"
   ]
  },
  {
   "cell_type": "code",
   "execution_count": 40,
   "id": "b0141587",
   "metadata": {},
   "outputs": [
    {
     "data": {
      "text/plain": [
       "array([[408,  85,  43,  25,  38],\n",
       "       [283, 243, 229, 104,  88],\n",
       "       [ 14,  30, 498,  53,  24],\n",
       "       [ 90,  95, 290, 280, 286],\n",
       "       [ 20,  27,  65,  88, 392]], dtype=int64)"
      ]
     },
     "execution_count": 40,
     "metadata": {},
     "output_type": "execute_result"
    }
   ],
   "source": [
    "from sklearn.metrics import confusion_matrix\n",
    "cm = confusion_matrix(y_test, y_pred)\n",
    "cm"
   ]
  },
  {
   "cell_type": "code",
   "execution_count": 42,
   "id": "533a93d3",
   "metadata": {},
   "outputs": [
    {
     "data": {
      "text/plain": [
       "Text(105.0, 0.5, 'Truth')"
      ]
     },
     "execution_count": 42,
     "metadata": {},
     "output_type": "execute_result"
    },
    {
     "data": {
      "image/png": "[encoded data removed]",
      "text/plain": [
       "<Figure size 1008x576 with 2 Axes>"
      ]
     },
     "metadata": {
      "needs_background": "light"
     },
     "output_type": "display_data"
    }
   ],
   "source": [
    "from matplotlib import pyplot as plt\n",
    "import seaborn as sns\n",
    "plt.figure(figsize = (14,8))\n",
    "sns.heatmap(cm, annot=True, fmt='d')\n",
    "plt.xlabel('Prediction')\n",
    "plt.ylabel('Truth')"
   ]
  },
  {
   "cell_type": "code",
   "execution_count": null,
   "id": "da5f817a",
   "metadata": {},
   "outputs": [],
   "source": []
  },
  {
   "cell_type": "code",
   "execution_count": null,
   "id": "61ec7460",
   "metadata": {},
   "outputs": [],
   "source": []
  },
  {
   "cell_type": "code",
   "execution_count": null,
   "id": "ceb287d0",
   "metadata": {},
   "outputs": [],
   "source": []
  },
  {
   "cell_type": "code",
   "execution_count": null,
   "id": "5e7a9b6c",
   "metadata": {},
   "outputs": [],
   "source": []
  },
  {
   "cell_type": "code",
   "execution_count": null,
   "id": "a300ce67",
   "metadata": {},
   "outputs": [],
   "source": []
  },
  {
   "cell_type": "code",
   "execution_count": null,
   "id": "842e02fd",
   "metadata": {},
   "outputs": [],
   "source": []
  }
 ],
 "metadata": {
  "kernelspec": {
   "display_name": "Python 3 (ipykernel)",
   "language": "python",
   "name": "python3"
  },
  "language_info": {
   "codemirror_mode": {
    "name": "ipython",
    "version": 3
   },
   "file_extension": ".py",
   "mimetype": "text/x-python",
   "name": "python",
   "nbconvert_exporter": "python",
   "pygments_lexer": "ipython3",
   "version": "3.10.5"
  }
 },
 "nbformat": 4,
 "nbformat_minor": 5
}
